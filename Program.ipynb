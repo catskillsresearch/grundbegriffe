{
 "cells": [
  {
   "cell_type": "markdown",
   "metadata": {},
   "source": [
    "Let $(X,\\Sigma)$ be a measure space.\n",
    "\n",
    "Let $(Y,d)$ be a metric space.\n",
    "\n",
    "Let $x$ be a map from $X$ to $Y$ such that $x^{-1}(B) \\in \\Sigma$ for any Borel set $B$ in $Y$.\n",
    "\n",
    "We say that $x: (X,\\Sigma) \\to (Y,d)$ is a $Y$-valued random function and $x$ is a $\\Sigma$-measurable function.\n",
    "\n",
    "We say that $x$ is a $Y$-valued random variable iff \n",
    "\n",
    "* $x^{-1}(O) \\in \\Sigma$ for any open set $O$\n",
    "* $x^{-1}(S) \\in \\Sigma$ for any closet set $S$\n",
    "* If $Y=\\Re$, then $\\{w \\in X : x(w) \\leq \\alpha\\} \\in \\Sigma$ for any $\\alpha \\in \\Re$.\n",
    "\n",
    "$\\sigma$"
   ]
  },
  {
   "cell_type": "code",
   "execution_count": 2,
   "metadata": {},
   "outputs": [],
   "source": [
    "from graphviz import Digraph\n",
    "\n",
    "g = Digraph(comment='Grundbegriffe')\n",
    "\n",
    "g.edge()\n",
    "\n"
   ]
  }
 ],
 "metadata": {
  "kernelspec": {
   "display_name": "nemo",
   "language": "python",
   "name": "nemo"
  },
  "language_info": {
   "codemirror_mode": {
    "name": "ipython",
    "version": 3
   },
   "file_extension": ".py",
   "mimetype": "text/x-python",
   "name": "python",
   "nbconvert_exporter": "python",
   "pygments_lexer": "ipython3",
   "version": "3.7.9"
  }
 },
 "nbformat": 4,
 "nbformat_minor": 2
}
